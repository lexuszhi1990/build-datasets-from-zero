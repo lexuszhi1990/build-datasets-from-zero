{
 "cells": [
  {
   "cell_type": "code",
   "execution_count": 8,
   "metadata": {},
   "outputs": [],
   "source": [
    "import csv\n",
    "import numpy as np\n",
    "import cv2\n",
    "from time import time\n",
    "import os\n",
    "from PIL import Image as pilimg"
   ]
  },
  {
   "cell_type": "code",
   "execution_count": 9,
   "metadata": {},
   "outputs": [],
   "source": [
    "person_labels=['/m/04yx4', '/m/03bt1vf', '/m/01bl7v', '/m/05r655', '/m/01g317'] #merger for 'person'\n",
    "bag_labels=['/m/0hf58v5', '/m/01940j'] #merger for 'bag'"
   ]
  },
  {
   "cell_type": "code",
   "execution_count": 10,
   "metadata": {},
   "outputs": [],
   "source": [
    "root_dir='/mnt/openimgv4/'\n",
    "lbl_dir=root_dir+'tools/validation-annotations-bbox_people_and_bag.csv'\n",
    "cls_dir_num=root_dir+'clsDict_new.csv'\n",
    "cls_dir_code=root_dir+'train/label/challenge-2018-class-descriptions-500.csv'\n",
    "dat_dir=root_dir+'sources/valid_img/'\n",
    "rec_dir=root_dir+'sources/rec_files/'"
   ]
  },
  {
   "cell_type": "code",
   "execution_count": 11,
   "metadata": {},
   "outputs": [],
   "source": [
    "# convert csv file to dict\n",
    "def row_csv2dict(csv_file):\n",
    "    dict_club={}\n",
    "    with open(csv_file)as f:\n",
    "        reader=csv.reader(f,delimiter=',')\n",
    "        for row in reader:\n",
    "            dict_club[row[0]]=row[1]\n",
    "    return dict_club"
   ]
  },
  {
   "cell_type": "code",
   "execution_count": 12,
   "metadata": {},
   "outputs": [],
   "source": [
    "# search for class name for a given label\n",
    "def get_cls(lbl):\n",
    "    cls_dict=row_csv2dict(cls_dir_code)\n",
    "    if lbl in cls_dict:\n",
    "        return cls_dict[lbl]\n",
    "    else:\n",
    "        return 'None' # return 'None' for empty labels"
   ]
  },
  {
   "cell_type": "code",
   "execution_count": 13,
   "metadata": {},
   "outputs": [],
   "source": [
    "# rotate vertical images\n",
    "def rotatecc(id):\n",
    "    im = pilimg.open(dat_dir+id+'.jpg')\n",
    "    ng = im.transpose(pilimg.ROTATE_90)\n",
    "    ng.save(dat_dir+id+'_r.jpg')\n",
    "    with open(root_dir+'sources/valid_rotated_cc.log', 'a+') as f:\n",
    "        f.write(id+'\\n')"
   ]
  },
  {
   "cell_type": "code",
   "execution_count": 14,
   "metadata": {},
   "outputs": [
    {
     "name": "stdout",
     "output_type": "stream",
     "text": [
      "0  time: 0.05183076858520508\n",
      "1000  time: 10.342251062393188\n",
      "2000  time: 21.174380779266357\n",
      "3000  time: 32.42556381225586\n",
      "4000  time: 42.688151359558105\n",
      "5000  time: 51.77247190475464\n",
      "6000  time: 61.618523597717285\n",
      "7000  time: 72.29511618614197\n",
      "8000  time: 82.960120677948\n",
      "9000  time: 91.73302745819092\n",
      "10000  time: 102.00993514060974\n",
      "11000  time: 110.31768131256104\n",
      "12000  time: 120.97136449813843\n",
      "13000  time: 129.4767246246338\n",
      "14000  time: 137.76612782478333\n",
      "15000  time: 146.6457769870758\n",
      "16000  time: 159.41065382957458\n",
      "17000  time: 167.42717576026917\n",
      "18000  time: 175.87838172912598\n",
      "19000  time: 184.5706160068512\n",
      "20000  time: 193.46529817581177\n",
      "21000  time: 202.60886406898499\n",
      "22000  time: 211.27645015716553\n"
     ]
    }
   ],
   "source": [
    "# search for labels for a given image id\n",
    "id_idx=0 #index of image id\n",
    "lbl_idx=[2, 4, 5, 6, 7] #label_name, xmin, xmax, ymin, ymax\n",
    "\n",
    "# only preserve non-group labels\n",
    "gp_idx=10\n",
    "\n",
    "start=time()\n",
    "with open(lbl_dir,encoding='utf-8') as cfile:\n",
    "    reader = csv.reader(cfile)\n",
    "    readeritem=[]\n",
    "    readeritem.extend([row for row in reader])\n",
    "with open(rec_dir+'valid_person_and_bag.lst', 'w+') as f:\n",
    "    isgot=0\n",
    "    id_old='666'\n",
    "    img_idx=0\n",
    "    for i,rows in enumerate(readeritem):\n",
    "        if i%1000==0:\n",
    "            print(i,' time:',time()-start)\n",
    "        path = dat_dir + rows[id_idx] + '.jpg'\n",
    "        if os.path.isfile(path):\n",
    "            if True:\n",
    "                if rows[id_idx]!=id_old:\n",
    "                    if id_old!='666':\n",
    "                        if box_count>0:\n",
    "                            f.write(\n",
    "                            str(img_idx) + '\\t' +\n",
    "                            str(4) + '\\t' + str(5) + '\\t' +\n",
    "                            str(W) + '\\t' + str(H) + '\\t' +\n",
    "                            mcstr +\n",
    "                            str(file_id) + '.jpg\\n'\n",
    "                            )\n",
    "                            img_idx+=1\n",
    "                    mcstr=''\n",
    "                    box_count=0\n",
    "                    img=cv2.imread(path)\n",
    "                    W=np.size(img,1)\n",
    "                    H=np.size(img,0)\n",
    "                    row=rows\n",
    "                    id_old=rows[id_idx]\n",
    "                    if H>W:\n",
    "                        file_id=rows[id_idx]+'_r'\n",
    "                        rotatecc(rows[id_idx])\n",
    "                        tmp=W\n",
    "                        W=H\n",
    "                        H=tmp\n",
    "                        isRotated=True\n",
    "                    else:\n",
    "                        file_id=rows[id_idx]\n",
    "                        isRotated=False\n",
    "                        \n",
    "                if rows[2] in person_labels:\n",
    "                    mcstr=mcstr+str(0)+'\\t' #target_labels.index(int(lbls[j,0]))\n",
    "                    if isRotated==False:\n",
    "                        mcstr+=str(rows[4]) + '\\t' + str(rows[6]) + '\\t' \n",
    "                        mcstr+=str(rows[5]) + '\\t' + str(rows[7]) + '\\t'\n",
    "                    else:\n",
    "                        mcstr+=str(rows[6]) + '\\t' + str(1-float(rows[5])) + '\\t' \n",
    "                        mcstr+=str(rows[7]) + '\\t' + str(1-float(rows[4])) + '\\t'\n",
    "                    box_count+=1\n",
    "                    \n",
    "                if rows[2] in bag_labels:\n",
    "                    mcstr=mcstr+str(1)+'\\t' #target_labels.index(int(lbls[j,0]))\n",
    "                    if isRotated==False:\n",
    "                        mcstr+=str(rows[4]) + '\\t' + str(rows[6]) + '\\t' \n",
    "                        mcstr+=str(rows[5]) + '\\t' + str(rows[7]) + '\\t'\n",
    "                    else:\n",
    "                        mcstr+=str(rows[6]) + '\\t' + str(1-float(rows[5])) + '\\t' \n",
    "                        mcstr+=str(rows[7]) + '\\t' + str(1-float(rows[4])) + '\\t'\n",
    "                    box_count+=1\n"
   ]
  },
  {
   "cell_type": "code",
   "execution_count": 46,
   "metadata": {},
   "outputs": [],
   "source": [
    "#def convert2array(csv_dat):\n",
    "    # out=np.reshape(['0','0','0','0','0','0','0','0','0','0','0',],(1,11))\n",
    "    # for i,rows in enumerate(csv_dat):\n",
    "        # if i!=0: \n",
    "            # #print(i)\n",
    "            # tmp=['0']\n",
    "            # row=rows\n",
    "            # for k in range(11):\n",
    "                # tmp.append(str(row[k]))\n",
    "            # tmp=tmp[1:]\n",
    "            # out=np.append(out,np.reshape(tmp,(1,11)),axis=0)\n",
    "    # out=np.delete(out,0,axis=0)\n",
    "    # return out # every 5 values (1 row) corresponds to 1 bbox"
   ]
  },
  {
   "cell_type": "markdown",
   "metadata": {},
   "source": [
    "## loop through all items in dat_dir (jpg)\n",
    "img_idx = 0"
   ]
  },
  {
   "cell_type": "code",
   "execution_count": null,
   "metadata": {},
   "outputs": [],
   "source": []
  },
  {
   "cell_type": "code",
   "execution_count": null,
   "metadata": {},
   "outputs": [],
   "source": []
  }
 ],
 "metadata": {
  "kernelspec": {
   "display_name": "Python 3",
   "language": "python",
   "name": "python3"
  },
  "language_info": {
   "codemirror_mode": {
    "name": "ipython",
    "version": 3
   },
   "file_extension": ".py",
   "mimetype": "text/x-python",
   "name": "python",
   "nbconvert_exporter": "python",
   "pygments_lexer": "ipython3",
   "version": "3.6.5rc1"
  }
 },
 "nbformat": 4,
 "nbformat_minor": 2
}
