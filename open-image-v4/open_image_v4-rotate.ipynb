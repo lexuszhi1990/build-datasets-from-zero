{
 "cells": [
  {
   "cell_type": "code",
   "execution_count": null,
   "metadata": {},
   "outputs": [],
   "source": [
    "#首先建好一个数据_ud文件夹  \n",
    "import PIL.Image as img  \n",
    "import os  \n",
    "path_old = \"C:/Users/49691/Desktop/数据/\"  \n",
    "path_new = \"C:/Users/49691/Desktop/数据_ud/\"  \n",
    "filelist = os.listdir(path_old)  \n",
    "total_num = len(filelist)  \n",
    "print(total_num)  \n",
    "for i in range(total_num): \n",
    "    \n",
    "    im = img.open(path_old + str(i) + \".jpg\")  \n",
    "    ng = im.transpose(Image.ROTATE_90)\n",
    "    ng.save(path_new + str(i) +'.jpg')  \n",
    "    if i%20 == 0:  \n",
    "        print(i)  \n",
    "print(i)  "
   ]
  }
 ],
 "metadata": {
  "kernelspec": {
   "display_name": "Python 3",
   "language": "python",
   "name": "python3"
  },
  "language_info": {
   "codemirror_mode": {
    "name": "ipython",
    "version": 3
   },
   "file_extension": ".py",
   "mimetype": "text/x-python",
   "name": "python",
   "nbconvert_exporter": "python",
   "pygments_lexer": "ipython3",
   "version": "3.6.5rc1"
  }
 },
 "nbformat": 4,
 "nbformat_minor": 2
}
