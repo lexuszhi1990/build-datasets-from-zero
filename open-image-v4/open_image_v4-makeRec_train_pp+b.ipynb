{
 "cells": [
  {
   "cell_type": "code",
   "execution_count": 1,
   "metadata": {},
   "outputs": [],
   "source": [
    "import os"
   ]
  },
  {
   "cell_type": "code",
   "execution_count": 2,
   "metadata": {},
   "outputs": [],
   "source": [
    "root_dir='/mnt/openimgv4/'\n",
    "cls_dir_num=root_dir+'clsDict_new.csv'\n",
    "cls_dir_code=root_dir+'train/label/challenge-2018-class-descriptions-500.csv'\n",
    "dat_dir=root_dir+'sources/train_img/'\n",
    "rec_dir=root_dir+'sources/rec_files/'\n",
    "\n",
    "prefix='train_person_and_bag'"
   ]
  },
  {
   "cell_type": "code",
   "execution_count": 3,
   "metadata": {},
   "outputs": [
    {
     "data": {
      "text/plain": [
       "0"
      ]
     },
     "execution_count": 3,
     "metadata": {},
     "output_type": "execute_result"
    }
   ],
   "source": [
    "os.system('python im2rec.py --resize 1 --pack-label '+ rec_dir+prefix+'.lst '+ dat_dir)"
   ]
  },
  {
   "cell_type": "code",
   "execution_count": null,
   "metadata": {},
   "outputs": [],
   "source": []
  }
 ],
 "metadata": {
  "kernelspec": {
   "display_name": "Python 3",
   "language": "python",
   "name": "python3"
  },
  "language_info": {
   "codemirror_mode": {
    "name": "ipython",
    "version": 3
   },
   "file_extension": ".py",
   "mimetype": "text/x-python",
   "name": "python",
   "nbconvert_exporter": "python",
   "pygments_lexer": "ipython3",
   "version": "3.6.5rc1"
  }
 },
 "nbformat": 4,
 "nbformat_minor": 2
}
