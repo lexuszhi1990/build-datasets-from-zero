{
 "cells": [
  {
   "cell_type": "code",
   "execution_count": 24,
   "metadata": {},
   "outputs": [],
   "source": [
    "import csv\n",
    "import numpy as np\n",
    "import cv2\n",
    "from time import time\n",
    "import os\n",
    "from PIL import Image as pilimg"
   ]
  },
  {
   "cell_type": "code",
   "execution_count": 25,
   "metadata": {},
   "outputs": [],
   "source": [
    "person_labels=['/m/04yx4', '/m/03bt1vf', '/m/01bl7v', '/m/05r655', '/m/01g317'] #merger for 'person'\n",
    "bag_labels=['/m/01940j'] #merger for 'bag' '/m/0hf58v5'"
   ]
  },
  {
   "cell_type": "code",
   "execution_count": 26,
   "metadata": {},
   "outputs": [],
   "source": [
    "root_dir='/mnt/openimgv4/'\n",
    "#lbl_dir=root_dir+'tools/train-annotations-bbox_people_and_bag.csv'\n",
    "lbl_dir=root_dir+'tools/validation-annotations-bbox_people_and_bag.csv'\n",
    "cls_dir_num=root_dir+'clsDict_new.csv'\n",
    "cls_dir_code=root_dir+'train/label/challenge-2018-class-descriptions-500.csv'\n",
    "#dat_dir=root_dir+'sources/train_img/'\n",
    "dat_dir=root_dir+'sources/valid_img/'\n",
    "rec_dir=root_dir+'sources/rec_files/'\n",
    "\n",
    "#prefix='train_bag'\n",
    "prefix='valid_bag'"
   ]
  },
  {
   "cell_type": "code",
   "execution_count": 27,
   "metadata": {},
   "outputs": [],
   "source": [
    "# convert csv file to dict\n",
    "def row_csv2dict(csv_file):\n",
    "    dict_club={}\n",
    "    with open(csv_file)as f:\n",
    "        reader=csv.reader(f,delimiter=',')\n",
    "        for row in reader:\n",
    "            dict_club[row[0]]=row[1]\n",
    "    return dict_club"
   ]
  },
  {
   "cell_type": "code",
   "execution_count": 28,
   "metadata": {},
   "outputs": [],
   "source": [
    "# search for class name for a given label\n",
    "def get_cls(lbl):\n",
    "    cls_dict=row_csv2dict(cls_dir_code)\n",
    "    if lbl in cls_dict:\n",
    "        return cls_dict[lbl]\n",
    "    else:\n",
    "        return 'None' # return 'None' for empty labels"
   ]
  },
  {
   "cell_type": "code",
   "execution_count": 29,
   "metadata": {},
   "outputs": [],
   "source": [
    "# rotate vertical images\n",
    "def rotatecc(id):\n",
    "    im = pilimg.open(dat_dir+id+'.jpg')\n",
    "    ng = im.transpose(pilimg.ROTATE_90)\n",
    "    ng.save(dat_dir+id+'_r.jpg')\n",
    "    with open(root_dir+'sources/valid_rotated_cc.log', 'a+') as f:\n",
    "        f.write(id+'\\n')"
   ]
  },
  {
   "cell_type": "code",
   "execution_count": 30,
   "metadata": {},
   "outputs": [
    {
     "name": "stdout",
     "output_type": "stream",
     "text": [
      "0  time: 1.2668161392211914\n",
      "1000  time: 1.2673790454864502\n",
      "2000  time: 1.3046000003814697\n",
      "3000  time: 1.3342206478118896\n",
      "4000  time: 1.441697359085083\n",
      "5000  time: 1.4875636100769043\n",
      "6000  time: 1.487973928451538\n",
      "7000  time: 1.4883418083190918\n",
      "8000  time: 1.4887125492095947\n",
      "9000  time: 1.498152494430542\n",
      "10000  time: 1.5103116035461426\n",
      "11000  time: 1.5584468841552734\n",
      "12000  time: 1.7308130264282227\n",
      "13000  time: 1.731231451034546\n",
      "14000  time: 1.8119566440582275\n",
      "15000  time: 1.8731870651245117\n",
      "16000  time: 1.8735923767089844\n",
      "17000  time: 1.873948574066162\n",
      "18000  time: 1.8742973804473877\n",
      "19000  time: 1.8859381675720215\n",
      "20000  time: 1.8864169120788574\n",
      "21000  time: 1.8868577480316162\n",
      "22000  time: 1.99623441696167\n"
     ]
    }
   ],
   "source": [
    "# search for labels for a given image id\n",
    "id_idx=0 #index of image id\n",
    "lbl_idx=[2, 4, 5, 6, 7] #label_name, xmin, xmax, ymin, ymax\n",
    "\n",
    "# only preserve non-group labels\n",
    "gp_idx=10\n",
    "\n",
    "start=time()\n",
    "with open(lbl_dir,encoding='utf-8') as cfile:\n",
    "    reader = csv.reader(cfile)\n",
    "    readeritem=[]\n",
    "    readeritem.extend([row for row in reader])\n",
    "with open(rec_dir+prefix+'.lst', 'w+') as f:\n",
    "    isgot=0\n",
    "    id_old='666'\n",
    "    img_idx=0\n",
    "    for i,rows in enumerate(readeritem):\n",
    "        if i%1000==0:\n",
    "            print(i,' time:',time()-start)\n",
    "        if rows[2] in bag_labels:\n",
    "            path = dat_dir + rows[id_idx] + '.jpg'  \n",
    "            if os.path.isfile(path):\n",
    "                if True:\n",
    "                    if rows[id_idx]!=id_old:\n",
    "                        if id_old!='666':\n",
    "                            if box_count>0:\n",
    "                                f.write(\n",
    "                                str(img_idx) + '\\t' +\n",
    "                                str(4) + '\\t' + str(5) + '\\t' +\n",
    "                                str(W) + '\\t' + str(H) + '\\t' +\n",
    "                                mcstr +\n",
    "                                str(file_id) + '.jpg\\n'\n",
    "                                )\n",
    "                                img_idx+=1\n",
    "                        mcstr=''\n",
    "                        box_count=0\n",
    "                        img=cv2.imread(path)\n",
    "                        W=np.size(img,1)\n",
    "                        H=np.size(img,0)\n",
    "                        row=rows\n",
    "                        id_old=rows[id_idx]\n",
    "                        if H>W:\n",
    "                            file_id=rows[id_idx]+'_r'\n",
    "                            rotatecc(rows[id_idx])\n",
    "                            tmp=W\n",
    "                            W=H\n",
    "                            H=tmp\n",
    "                            isRotated=True\n",
    "                        else:\n",
    "                            file_id=rows[id_idx]\n",
    "                            isRotated=False\n",
    "\n",
    "                    if rows[2] in bag_labels:\n",
    "                        mcstr=mcstr+str(0)+'\\t' # class 0\n",
    "                        if isRotated==False:\n",
    "                            mcstr+=str(rows[4]) + '\\t' + str(rows[6]) + '\\t' \n",
    "                            mcstr+=str(rows[5]) + '\\t' + str(rows[7]) + '\\t'\n",
    "                        else:\n",
    "                            mcstr+=str(rows[6]) + '\\t' + str(1-float(rows[5])) + '\\t' \n",
    "                            mcstr+=str(rows[7]) + '\\t' + str(1-float(rows[4])) + '\\t'\n",
    "                        box_count+=1"
   ]
  },
  {
   "cell_type": "code",
   "execution_count": null,
   "metadata": {},
   "outputs": [],
   "source": []
  },
  {
   "cell_type": "code",
   "execution_count": null,
   "metadata": {},
   "outputs": [],
   "source": []
  }
 ],
 "metadata": {
  "kernelspec": {
   "display_name": "Python 3",
   "language": "python",
   "name": "python3"
  },
  "language_info": {
   "codemirror_mode": {
    "name": "ipython",
    "version": 3
   },
   "file_extension": ".py",
   "mimetype": "text/x-python",
   "name": "python",
   "nbconvert_exporter": "python",
   "pygments_lexer": "ipython3",
   "version": "3.6.5rc1"
  }
 },
 "nbformat": 4,
 "nbformat_minor": 2
}
