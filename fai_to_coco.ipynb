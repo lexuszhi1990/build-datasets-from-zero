{
 "cells": [
  {
   "cell_type": "code",
   "execution_count": null,
   "metadata": {},
   "outputs": [],
   "source": [
    "import sys\n",
    "sys.path.append('/mnt/cocoapi/PythonAPI/')\n",
    "\n",
    "from pycocotools.coco import COCO\n",
    "import os, sys, zipfile\n",
    "import urllib.request\n",
    "import shutil\n",
    "import numpy as np\n",
    "%matplotlib inline\n",
    "import matplotlib.pyplot as plt\n",
    "import pylab\n",
    "import json\n",
    "from pathlib import Path\n",
    "import csv\n",
    "import cv2"
   ]
  },
  {
   "cell_type": "code",
   "execution_count": null,
   "metadata": {},
   "outputs": [],
   "source": [
    "source_dir = '/mnt/data/warm_up_train_20180222'\n",
    "output_dir = '/mnt/data/fai_kp_coco'\n",
    "image_set = 'train'\n",
    "data_anno_path = Path(source_dir, 'Annotations', image_set + '.csv')\n",
    "output_anno_path = Path(output_dir, 'annotations', image_set + '.json')\n",
    "assert data_anno_path.exists(), \"data_anno_path not exists\""
   ]
  },
  {
   "cell_type": "code",
   "execution_count": null,
   "metadata": {},
   "outputs": [],
   "source": [
    "train_anno_op = open(data_anno_path.as_posix(), 'r')\n",
    "csv_reader = csv.DictReader(train_anno_op)\n",
    "data_raw = [row for row in csv_reader]\n",
    "anno_dict = data_raw[0]\n",
    "print(anno_dict['image_id'])"
   ]
  },
  {
   "cell_type": "code",
   "execution_count": null,
   "metadata": {},
   "outputs": [],
   "source": [
    "data_coco={}\n",
    "\n",
    "categories=[]\n",
    "category = {}\n",
    "category['supercategory'] = anno_dict['image_category']\n",
    "category['id'] = 1\n",
    "category['name']= anno_dict['image_category']\n",
    "categories.append(category)\n",
    "\n",
    "\n",
    "data_coco['categories'] = categories"
   ]
  },
  {
   "cell_type": "code",
   "execution_count": null,
   "metadata": {},
   "outputs": [],
   "source": [
    "images=[]\n",
    "\n",
    "image={}\n",
    "image_path = anno_dict['image_id']\n",
    "ab_image_path = Path(source_dir, image_path)\n",
    "assert ab_image_path.exists(), 'Path does not exist: {}'.format(ab_image_path)\n",
    "image_raw = cv2.imread(ab_image_path.as_posix())\n",
    "image['height'], image['width'], _ = image_raw.shape\n",
    "image_name = image_path.split('/')[-1]\n",
    "image['file_name']=image_name\n",
    "image['id']=0 \n",
    "\n",
    "images.append(image)\n",
    "\n",
    "data_coco['images']=images"
   ]
  },
  {
   "cell_type": "code",
   "execution_count": null,
   "metadata": {},
   "outputs": [],
   "source": [
    "annotations=[]\n",
    "annotation={}\n",
    "\n",
    "keypoints_name = ['neckline_left', 'neckline_right', 'center_front', 'shoulder_left', 'shoulder_right', 'armpit_left', 'armpit_right', 'waistline_left', 'waistline_right', 'cuff_left_in', 'cuff_left_out', 'cuff_right_in', 'cuff_right_out', 'top_hem_left', 'top_hem_right', 'waistband_left', 'waistband_right', 'hemline_left', 'hemline_right', 'crotch', 'bottom_left_in', 'bottom_left_out', 'bottom_right_in', 'bottom_right_out']\n",
    "anno_kp = np.array([anno_dict.get(key).split('_') for key in keypoints_name]).astype(np.int16)\n",
    "anno_kp = anno_kp[np.where(anno_kp[:, 2]>=0)].astype(np.uint16)\n",
    "xmax, ymax, _ = anno_kp.max(axis=0)\n",
    "xmin, ymin, _ = anno_kp.min(axis=0)\n",
    "bbox = np.array([xmin, ymin, xmax-xmin, ymax-ymin]).tolist()\n",
    "\n",
    "annotation['segmentation']=[]\n",
    "annotation['iscrowd']=0\n",
    "annotation['image_id']=image['id']\n",
    "# annotation['bbox']=[str(xmin), str(ymin), str(xmax-xmin), str(ymax-ymin)]\n",
    "annotation['bbox']=bbox\n",
    "annotation['category_id']=1\n",
    "annotation['id']=1\n",
    "\n",
    "annotations.append(annotation)\n",
    "data_coco['annotations']=annotations"
   ]
  },
  {
   "cell_type": "code",
   "execution_count": null,
   "metadata": {},
   "outputs": [],
   "source": [
    "pose_name_seq = [\"neckline_left\", \"neckline_right\", \"center_front\", \"shoulder_left\",\n",
    "                  \"shoulder_right\", \"armpit_left\", \"armpit_right\", \"waistline_left\",\n",
    "                  \"waistline_right\", \"cuff_left_in\", \"cuff_left_out\", \"cuff_right_in\",\n",
    "                  \"cuff_right_out\", \"top_hem_left\", \"top_hem_right\", \"waistband_left\",\n",
    "                  \"waistband_right\", \"hemline_left\", \"hemline_right\", \"crotch\",\n",
    "                  \"bottom_left_in\", \"bottom_left_out\", \"bottom_right_in\", \"bottom_right_out\"]\n",
    "pose_id_dict = {\n",
    "  \"neckline_left\":1, \"neckline_right\":2, \"center_front\":3, \"shoulder_left\":4,\n",
    "  \"shoulder_right\":5, \"armpit_left\":6, \"armpit_right\":7, \"waistline_left\":8,\n",
    "  \"waistline_right\":9, \"cuff_left_in\":10, \"cuff_left_out\":11, \"cuff_right_in\":12,\n",
    "  \"cuff_right_out\":13, \"top_hem_left\":14, \"top_hem_right\":15, \"waistband_left\":16,\n",
    "  \"waistband_right\":17, \"hemline_left\":18, \"hemline_right\":19, \"crotch\":20,\n",
    "  \"bottom_left_in\":21, \"bottom_left_out\":22, \"bottom_right_in\":23, \"bottom_right_out\":24\n",
    "}\n",
    "keypoints_name = ['neckline_left', 'neckline_right', 'center_front', 'shoulder_left', 'shoulder_right', 'armpit_left', 'armpit_right', 'waistline_left', 'waistline_right', 'cuff_left_in', 'cuff_left_out', 'cuff_right_in', 'cuff_right_out', 'top_hem_left', 'top_hem_right', 'waistband_left', 'waistband_right', 'hemline_left', 'hemline_right', 'crotch', 'bottom_left_in', 'bottom_left_out', 'bottom_right_in', 'bottom_right_out']\n",
    "sorted_blouse_keys = ['neckline_left', 'shoulder_left', 'cuff_left_out', 'cuff_left_in', 'armpit_left', 'top_hem_left', 'top_hem_right', 'armpit_right', 'cuff_right_in', 'cuff_right_out', 'shoulder_right', 'neckline_right', 'center_front']\n",
    "anno_kp = np.array([anno_dict.get(key).split('_') for key in sorted_blouse_keys]).astype(np.int16)\n",
    "visable_mask_anno_kp = anno_kp[np.where(anno_kp[:, 2]>=0)].astype(np.float)\n",
    "\n",
    "print(len(np.where(anno_kp[:, 2] >= 0)[0]))\n",
    "print(len(np.where(anno_kp[:, 2] > 0)[0]))\n",
    "print(anno_kp[:, :2])\n",
    "\n",
    "\n",
    "[ values[0] for values in visable_mask_anno_kp]\n",
    "mask_op = visable_mask_anno_kp[:, :2].flatten()\n",
    "print(data_coco['annotations'][0])\n",
    "data_coco['annotations'][0]['segmentation'] = [mask_op.tolist()]"
   ]
  },
  {
   "cell_type": "code",
   "execution_count": null,
   "metadata": {},
   "outputs": [],
   "source": [
    "json.dump(data_coco, output_anno_path.open(mode='w+'), indent=4)"
   ]
  },
  {
   "cell_type": "code",
   "execution_count": null,
   "metadata": {},
   "outputs": [],
   "source": [
    "coco=COCO(output_anno_path.as_posix())"
   ]
  },
  {
   "cell_type": "code",
   "execution_count": null,
   "metadata": {},
   "outputs": [],
   "source": [
    "imgIds = coco.getImgIds()"
   ]
  },
  {
   "cell_type": "code",
   "execution_count": null,
   "metadata": {},
   "outputs": [],
   "source": [
    "coco.loadImgs(0)"
   ]
  },
  {
   "cell_type": "code",
   "execution_count": null,
   "metadata": {},
   "outputs": [],
   "source": [
    "img_anno = coco.loadImgs(0)[0]\n",
    "img_path = Path(output_dir, 'images', image_set, img_anno['file_name'])\n",
    "print(img_path)\n",
    "assert img_path.exists(), 'aaa'"
   ]
  },
  {
   "cell_type": "code",
   "execution_count": null,
   "metadata": {},
   "outputs": [],
   "source": [
    "img = cv2.imread(img_path.as_posix())\n",
    "plt.axis('off')\n",
    "plt.imshow(img)\n",
    "plt.show()"
   ]
  },
  {
   "cell_type": "code",
   "execution_count": null,
   "metadata": {},
   "outputs": [],
   "source": [
    "visable_mask_anno_kp[:, :2]\n",
    "kp = visable_mask_anno_kp[:, :2][0]\n",
    "[cv2.circle(img, (int(kp[0]), int(kp[1])), radius=5, color=(255, 0, 0), thickness=3) for kp in visable_mask_anno_kp[:, :2]]\n",
    "plt.axis('off')\n",
    "plt.imshow(img)\n",
    "plt.show()"
   ]
  },
  {
   "cell_type": "code",
   "execution_count": null,
   "metadata": {},
   "outputs": [],
   "source": [
    "visable_mask_anno_kp[:, :2]\n",
    "kp = visable_mask_anno_kp[:, :2][0]\n",
    "[cv2.circle(img, (int(kp[0]), int(kp[1])), radius=5, color=(255, 0, 0), thickness=3) for kp in visable_mask_anno_kp[:, :2]]\n",
    "plt.axis('off')\n",
    "plt.imshow(img)\n",
    "plt.show()"
   ]
  },
  {
   "cell_type": "code",
   "execution_count": null,
   "metadata": {},
   "outputs": [],
   "source": [
    "annIds = coco.getAnnIds(imgIds=[0])\n",
    "anns = coco.loadAnns(annIds)\n",
    "anns[0]['bbox']\n",
    "xmin, ymin, width, height = [int(i) for i in anns[0]['bbox']]\n",
    "xmin, ymin, width, height = anns[0]['bbox']"
   ]
  },
  {
   "cell_type": "code",
   "execution_count": null,
   "metadata": {},
   "outputs": [],
   "source": [
    "cv2.rectangle(img, (xmin, ymin), (xmin+width, ymin+height), (255, 0, 0), 2)\n",
    "plt.axis('off')\n",
    "plt.imshow(img)\n",
    "plt.show()"
   ]
  },
  {
   "cell_type": "code",
   "execution_count": null,
   "metadata": {},
   "outputs": [],
   "source": [
    "# load and display instance annotations\n",
    "# 加载实例掩膜\n",
    "# catIds = coco.getCatIds(catNms=['person','dog','skateboard']);\n",
    "# catIds=coco.getCatIds()\n",
    "catIds=[]\n",
    "for ann in coco.dataset['annotations']:\n",
    "    if ann['image_id']==0:\n",
    "        catIds.append(ann['category_id'])\n",
    "print(catIds)"
   ]
  },
  {
   "cell_type": "code",
   "execution_count": null,
   "metadata": {},
   "outputs": [],
   "source": [
    "plt.imshow(img); plt.axis('off')\n",
    "annIds = coco.getAnnIds(imgIds=0, catIds=catIds, iscrowd=None)\n",
    "anns = coco.loadAnns(annIds)\n",
    "coco.showAnns(anns)"
   ]
  },
  {
   "cell_type": "code",
   "execution_count": null,
   "metadata": {},
   "outputs": [],
   "source": [
    "data_coco['categories'][0]['keypoints'] = [\"neckline_left\", \"neckline_right\", \"center_front\", \"shoulder_left\",\n",
    "                        \"shoulder_right\", \"armpit_left\", \"armpit_right\", \"waistline_left\",\n",
    "                        \"waistline_right\", \"cuff_left_in\", \"cuff_left_out\", \"cuff_right_in\",\n",
    "                        \"cuff_right_out\", \"top_hem_left\", \"top_hem_right\", \"waistband_left\",\n",
    "                        \"waistband_right\", \"hemline_left\", \"hemline_right\", \"crotch\",\n",
    "                        \"bottom_left_in\", \"bottom_left_out\", \"bottom_right_in\", \"bottom_right_out\"]\n",
    "data_coco['categories'][0]['skeleton'] = [[1,2], [1,3], [2,3], [1,4], [4,11], [6,7], [6,10], [2,5], [5,13],\n",
    "                   [7,12], [4,6], [5,7], [6,14], [14,15], [7,15], [6,8], [7,9], [16,17], [8,18],\n",
    "                   [9,19], [16,18], [17, 19], [16, 22], [17, 24], [16, 20], [17, 20],\n",
    "                   [20, 21], [20, 23]]\n",
    "print(data_coco['categories'])"
   ]
  },
  {
   "cell_type": "code",
   "execution_count": null,
   "metadata": {},
   "outputs": [],
   "source": [
    "anno_keys = [\"neckline_left\", \"neckline_right\", \"center_front\", \"shoulder_left\",\n",
    "                        \"shoulder_right\", \"armpit_left\", \"armpit_right\", \"waistline_left\",\n",
    "                        \"waistline_right\", \"cuff_left_in\", \"cuff_left_out\", \"cuff_right_in\",\n",
    "                        \"cuff_right_out\", \"top_hem_left\", \"top_hem_right\", \"waistband_left\",\n",
    "                        \"waistband_right\", \"hemline_left\", \"hemline_right\", \"crotch\",\n",
    "                        \"bottom_left_in\", \"bottom_left_out\", \"bottom_right_in\", \"bottom_right_out\"]\n",
    "anno_kp = np.array([anno_dict.get(key).split('_') for key in anno_keys]).astype(np.int16).tolist()\n",
    "anno_kps = [[aa[0], aa[1], aa[2]+1] for aa in anno_kp]\n",
    "data_coco['annotations'][0]['keypoints'] = [ p for kp in anno_kps for p in kp]\n",
    "data_coco['annotations'][0]['segmentation'] = []\n",
    "print(data_coco['annotations'])"
   ]
  },
  {
   "cell_type": "code",
   "execution_count": null,
   "metadata": {},
   "outputs": [],
   "source": [
    "json.dump(data_coco, output_anno_path.open(mode='w'), indent=4)"
   ]
  },
  {
   "cell_type": "code",
   "execution_count": null,
   "metadata": {},
   "outputs": [],
   "source": [
    "coco=COCO(output_anno_path.as_posix())\n",
    "img = cv2.imread(img_path.as_posix())\n",
    "plt.imshow(img); plt.axis('off')\n",
    "annIds = coco.getAnnIds(imgIds=0, catIds=catIds, iscrowd=None)\n",
    "anns = coco.loadAnns(annIds)\n",
    "coco.showAnns(anns)"
   ]
  },
  {
   "cell_type": "code",
   "execution_count": null,
   "metadata": {},
   "outputs": [],
   "source": [
    "plt.axis('off')\n",
    "plt.imshow(img)\n",
    "plt.show()"
   ]
  }
 ],
 "metadata": {
  "kernelspec": {
   "display_name": "python3.6",
   "language": "python",
   "name": "python3.6"
  },
  "language_info": {
   "codemirror_mode": {
    "name": "ipython",
    "version": 3
   },
   "file_extension": ".py",
   "mimetype": "text/x-python",
   "name": "python",
   "nbconvert_exporter": "python",
   "pygments_lexer": "ipython3",
   "version": "3.6.5rc1"
  }
 },
 "nbformat": 4,
 "nbformat_minor": 2
}
