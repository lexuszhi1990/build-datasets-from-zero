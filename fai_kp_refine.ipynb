{
 "cells": [
  {
   "cell_type": "code",
   "execution_count": null,
   "metadata": {},
   "outputs": [],
   "source": [
    "import sys\n",
    "sys.path.append('/mnt/cocoapi/PythonAPI/')\n",
    "\n",
    "from pycocotools.coco import COCO\n",
    "import os, sys, zipfile\n",
    "import urllib.request\n",
    "import shutil\n",
    "import numpy as np\n",
    "%matplotlib inline\n",
    "import matplotlib.pyplot as plt\n",
    "import pylab\n",
    "import json\n",
    "from pathlib import Path\n",
    "import csv\n",
    "import cv2\n",
    "from random import randrange"
   ]
  },
  {
   "cell_type": "code",
   "execution_count": null,
   "metadata": {},
   "outputs": [],
   "source": [
    "output_dir = '/mnt/data'\n",
    "image_set = 'train'\n",
    "anno_file = Path(output_dir, 'annotations', image_set+'.json')\n",
    "coco=COCO(anno_file.as_posix())"
   ]
  },
  {
   "cell_type": "code",
   "execution_count": null,
   "metadata": {},
   "outputs": [],
   "source": [
    "coco.getCatIds()"
   ]
  },
  {
   "cell_type": "code",
   "execution_count": null,
   "metadata": {},
   "outputs": [],
   "source": [
    "print(coco.cats)\n",
    "\n",
    "# blouse_cat = coco.cats[1]\n",
    "# print(blouse_cat)\n",
    "\n",
    "# blouse_cat['keypoints'] = ['neckline_left', 'neckline_right', 'center_front', 'shoulder_left', \n",
    "#                              'shoulder_right', 'armpit_left', 'armpit_right', 'cuff_left_in', \n",
    "#                              'cuff_left_out', 'cuff_right_in', 'cuff_right_out', 'top_hem_left', \n",
    "#                              'top_hem_right']\n",
    "# blouse_cat['skeleton'] = [[1, 2], [1, 3], [2, 3], [1, 4], [4, 11], [6, 7], [6, 10], [2, 5], \n",
    "#                            [5, 13]]\n",
    "\n",
    "# coco.cats[1] = blouse_cat \n",
    "# print(coco.cats[1])"
   ]
  },
  {
   "cell_type": "code",
   "execution_count": null,
   "metadata": {},
   "outputs": [],
   "source": [
    "img_idx = coco.getImgIds()\n",
    "img_id = img_idx[randrange(len(img_idx))]\n",
    "\n",
    "# blouse\n",
    "#img_id = 895906053124555157\n",
    "print(img_id)\n",
    "img_anno = coco.loadImgs([img_id])[0]\n",
    "print(img_anno)\n",
    "img_path = Path(output_dir, 'images', image_set, img_anno['file_name'])\n",
    "print(img_path)\n",
    "assert img_path.exists(), 'image not exists'\n",
    "img_id\n",
    "img = cv2.imread(img_path.as_posix())\n",
    "\n",
    "catIds=[]\n",
    "for ann in coco.dataset['annotations']:\n",
    "    if ann['image_id']==img_id:\n",
    "        catIds.append(ann['category_id'])\n",
    "print(catIds)\n",
    "\n",
    "# coco.cats[2]['skeleton'] = [[1, 2], [2, 3], [3, 4], [4, 5], [5, 6], [6, 7], [7, 8], [8, 9], [9, 10], \n",
    "#                             [10, 11], [11, 12], [12, 13], [13, 14], [14, 15], [15, 1], [7, 10], [3, 7], \n",
    "#                             [14, 10], [3, 6]]\n",
    "# coco.cats[3]['skeleton'] = [[1, 2], [2, 3], [3, 4], [4, 5], [5, 6], [6, 9], [9, 10], [10, 11], [11, 12],\n",
    "#                             [12, 13], [13, 14], [14, 1], [7, 8], [6, 7], [8, 9], [2, 6], [13, 9], [1, 5], [5, 7]]\n",
    "\n",
    "\n",
    "plt.imshow(img); plt.axis('off')\n",
    "annIds = coco.getAnnIds(imgIds=[img_id], catIds=catIds, iscrowd=None)\n",
    "anns = coco.loadAnns(annIds)\n",
    "print(anns)\n",
    "coco.showAnns(anns)"
   ]
  },
  {
   "cell_type": "code",
   "execution_count": null,
   "metadata": {},
   "outputs": [],
   "source": []
  },
  {
   "cell_type": "code",
   "execution_count": null,
   "metadata": {},
   "outputs": [],
   "source": []
  }
 ],
 "metadata": {
  "kernelspec": {
   "display_name": "python3.6",
   "language": "python",
   "name": "python3.6"
  },
  "language_info": {
   "codemirror_mode": {
    "name": "ipython",
    "version": 3
   },
   "file_extension": ".py",
   "mimetype": "text/x-python",
   "name": "python",
   "nbconvert_exporter": "python",
   "pygments_lexer": "ipython3",
   "version": "3.6.5rc1"
  }
 },
 "nbformat": 4,
 "nbformat_minor": 2
}
