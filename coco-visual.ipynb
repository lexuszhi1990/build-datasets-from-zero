{
 "cells": [
  {
   "cell_type": "code",
   "execution_count": 43,
   "metadata": {},
   "outputs": [
    {
     "name": "stdout",
     "output_type": "stream",
     "text": [
      "loading annotations into memory...\n",
      "Done (t=17.13s)\n",
      "creating index...\n",
      "index created!\n"
     ]
    }
   ],
   "source": [
    "import sys\n",
    "sys.path.append('/home/david/fashionAI/rcnn/rcnn')\n",
    "\n",
    "from pycocotools.coco import COCO\n",
    "import os, sys, zipfile\n",
    "import urllib.request\n",
    "import shutil\n",
    "import numpy as np\n",
    "import skimage.io as io\n",
    "%matplotlib inline\n",
    "import matplotlib.pyplot as plt\n",
    "import pylab\n",
    "import json"
   ]
  },
  {
   "cell_type": "code",
   "execution_count": 22,
   "metadata": {},
   "outputs": [],
   "source": [
    "json_file='/data/david/cocoapi/annotations/instances_train2017.json'\n",
    "# json_file='./annotations/person_keypoints_val2017.json'  # Object Keypoint 类型的标注格式\n",
    "# json_file='./annotations/captions_val2017.json' # Image Caption的标注格式\n",
    "\n",
    "data=json.load(open(json_file,'r'))\n",
    "data_2={}\n",
    "data_2['info']=data['info']\n",
    "data_2['licenses']=data['licenses']\n",
    "data_2['images']=[data['images'][0]] # 只提取第一张图片\n",
    "data_2['categories']=data['categories']  # Image Caption 没有该字段\n",
    "annotation=[]\n"
   ]
  },
  {
   "cell_type": "code",
   "execution_count": 55,
   "metadata": {},
   "outputs": [
    {
     "data": {
      "text/plain": [
       "[376.97,\n",
       " 176.91,\n",
       " 398.81,\n",
       " 176.91,\n",
       " 396.38,\n",
       " 147.78,\n",
       " 447.35,\n",
       " 146.17,\n",
       " 448.16,\n",
       " 172.05,\n",
       " 448.16,\n",
       " 178.53,\n",
       " 464.34,\n",
       " 186.62,\n",
       " 464.34,\n",
       " 192.28,\n",
       " 448.97,\n",
       " 195.51,\n",
       " 447.35,\n",
       " 235.96,\n",
       " 441.69,\n",
       " 258.62,\n",
       " 454.63,\n",
       " 268.32,\n",
       " 462.72,\n",
       " 276.41,\n",
       " 471.62,\n",
       " 290.98,\n",
       " 456.25,\n",
       " 298.26,\n",
       " 439.26,\n",
       " 292.59,\n",
       " 431.98,\n",
       " 308.77,\n",
       " 442.49,\n",
       " 313.63,\n",
       " 436.02,\n",
       " 316.86,\n",
       " 429.55,\n",
       " 322.53,\n",
       " 419.84,\n",
       " 354.89,\n",
       " 402.04,\n",
       " 359.74,\n",
       " 401.24,\n",
       " 312.82,\n",
       " 370.49,\n",
       " 303.92,\n",
       " 391.53,\n",
       " 299.87,\n",
       " 391.53,\n",
       " 280.46,\n",
       " 385.06,\n",
       " 278.84,\n",
       " 381.01,\n",
       " 278.84,\n",
       " 359.17,\n",
       " 269.13,\n",
       " 373.73,\n",
       " 261.85,\n",
       " 374.54,\n",
       " 256.19,\n",
       " 378.58,\n",
       " 231.11,\n",
       " 383.44,\n",
       " 205.22,\n",
       " 385.87,\n",
       " 192.28,\n",
       " 373.73,\n",
       " 184.19]"
      ]
     },
     "execution_count": 55,
     "metadata": {},
     "output_type": "execute_result"
    }
   ],
   "source": [
    "# 通过imgID 找到其所有对象\n",
    "imgID=data_2['images'][0]['id']\n",
    "for ann in data['annotations']:\n",
    "    if ann['image_id']==imgID:\n",
    "        annotation.append(ann)\n",
    "data_2['annotations']=annotation\n",
    "data_2['annotations'][0]['segmentation'][0]"
   ]
  },
  {
   "cell_type": "code",
   "execution_count": 26,
   "metadata": {},
   "outputs": [
    {
     "data": {
      "text/plain": [
       "dict_keys(['annotations', 'images', 'info', 'licenses', 'categories'])"
      ]
     },
     "execution_count": 26,
     "metadata": {},
     "output_type": "execute_result"
    }
   ],
   "source": [
    "data.keys()"
   ]
  },
  {
   "cell_type": "code",
   "execution_count": 33,
   "metadata": {},
   "outputs": [
    {
     "data": {
      "text/plain": [
       "[{'contributor': 'COCO Consortium',\n",
       "  'date_created': '2017/09/01',\n",
       "  'description': 'COCO 2017 Dataset',\n",
       "  'url': 'http://cocodataset.org',\n",
       "  'version': '1.0',\n",
       "  'year': 2017},\n",
       " [{'id': 1,\n",
       "   'name': 'Attribution-NonCommercial-ShareAlike License',\n",
       "   'url': 'http://creativecommons.org/licenses/by-nc-sa/2.0/'},\n",
       "  {'id': 2,\n",
       "   'name': 'Attribution-NonCommercial License',\n",
       "   'url': 'http://creativecommons.org/licenses/by-nc/2.0/'},\n",
       "  {'id': 3,\n",
       "   'name': 'Attribution-NonCommercial-NoDerivs License',\n",
       "   'url': 'http://creativecommons.org/licenses/by-nc-nd/2.0/'},\n",
       "  {'id': 4,\n",
       "   'name': 'Attribution License',\n",
       "   'url': 'http://creativecommons.org/licenses/by/2.0/'},\n",
       "  {'id': 5,\n",
       "   'name': 'Attribution-ShareAlike License',\n",
       "   'url': 'http://creativecommons.org/licenses/by-sa/2.0/'},\n",
       "  {'id': 6,\n",
       "   'name': 'Attribution-NoDerivs License',\n",
       "   'url': 'http://creativecommons.org/licenses/by-nd/2.0/'},\n",
       "  {'id': 7,\n",
       "   'name': 'No known copyright restrictions',\n",
       "   'url': 'http://flickr.com/commons/usage/'},\n",
       "  {'id': 8,\n",
       "   'name': 'United States Government Work',\n",
       "   'url': 'http://www.usa.gov/copyright.shtml'}],\n",
       " [{'id': 1, 'name': 'person', 'supercategory': 'person'},\n",
       "  {'id': 2, 'name': 'bicycle', 'supercategory': 'vehicle'},\n",
       "  {'id': 3, 'name': 'car', 'supercategory': 'vehicle'},\n",
       "  {'id': 4, 'name': 'motorcycle', 'supercategory': 'vehicle'},\n",
       "  {'id': 5, 'name': 'airplane', 'supercategory': 'vehicle'},\n",
       "  {'id': 6, 'name': 'bus', 'supercategory': 'vehicle'},\n",
       "  {'id': 7, 'name': 'train', 'supercategory': 'vehicle'},\n",
       "  {'id': 8, 'name': 'truck', 'supercategory': 'vehicle'},\n",
       "  {'id': 9, 'name': 'boat', 'supercategory': 'vehicle'},\n",
       "  {'id': 10, 'name': 'traffic light', 'supercategory': 'outdoor'},\n",
       "  {'id': 11, 'name': 'fire hydrant', 'supercategory': 'outdoor'},\n",
       "  {'id': 13, 'name': 'stop sign', 'supercategory': 'outdoor'},\n",
       "  {'id': 14, 'name': 'parking meter', 'supercategory': 'outdoor'},\n",
       "  {'id': 15, 'name': 'bench', 'supercategory': 'outdoor'},\n",
       "  {'id': 16, 'name': 'bird', 'supercategory': 'animal'},\n",
       "  {'id': 17, 'name': 'cat', 'supercategory': 'animal'},\n",
       "  {'id': 18, 'name': 'dog', 'supercategory': 'animal'},\n",
       "  {'id': 19, 'name': 'horse', 'supercategory': 'animal'},\n",
       "  {'id': 20, 'name': 'sheep', 'supercategory': 'animal'},\n",
       "  {'id': 21, 'name': 'cow', 'supercategory': 'animal'},\n",
       "  {'id': 22, 'name': 'elephant', 'supercategory': 'animal'},\n",
       "  {'id': 23, 'name': 'bear', 'supercategory': 'animal'},\n",
       "  {'id': 24, 'name': 'zebra', 'supercategory': 'animal'},\n",
       "  {'id': 25, 'name': 'giraffe', 'supercategory': 'animal'},\n",
       "  {'id': 27, 'name': 'backpack', 'supercategory': 'accessory'},\n",
       "  {'id': 28, 'name': 'umbrella', 'supercategory': 'accessory'},\n",
       "  {'id': 31, 'name': 'handbag', 'supercategory': 'accessory'},\n",
       "  {'id': 32, 'name': 'tie', 'supercategory': 'accessory'},\n",
       "  {'id': 33, 'name': 'suitcase', 'supercategory': 'accessory'},\n",
       "  {'id': 34, 'name': 'frisbee', 'supercategory': 'sports'},\n",
       "  {'id': 35, 'name': 'skis', 'supercategory': 'sports'},\n",
       "  {'id': 36, 'name': 'snowboard', 'supercategory': 'sports'},\n",
       "  {'id': 37, 'name': 'sports ball', 'supercategory': 'sports'},\n",
       "  {'id': 38, 'name': 'kite', 'supercategory': 'sports'},\n",
       "  {'id': 39, 'name': 'baseball bat', 'supercategory': 'sports'},\n",
       "  {'id': 40, 'name': 'baseball glove', 'supercategory': 'sports'},\n",
       "  {'id': 41, 'name': 'skateboard', 'supercategory': 'sports'},\n",
       "  {'id': 42, 'name': 'surfboard', 'supercategory': 'sports'},\n",
       "  {'id': 43, 'name': 'tennis racket', 'supercategory': 'sports'},\n",
       "  {'id': 44, 'name': 'bottle', 'supercategory': 'kitchen'},\n",
       "  {'id': 46, 'name': 'wine glass', 'supercategory': 'kitchen'},\n",
       "  {'id': 47, 'name': 'cup', 'supercategory': 'kitchen'},\n",
       "  {'id': 48, 'name': 'fork', 'supercategory': 'kitchen'},\n",
       "  {'id': 49, 'name': 'knife', 'supercategory': 'kitchen'},\n",
       "  {'id': 50, 'name': 'spoon', 'supercategory': 'kitchen'},\n",
       "  {'id': 51, 'name': 'bowl', 'supercategory': 'kitchen'},\n",
       "  {'id': 52, 'name': 'banana', 'supercategory': 'food'},\n",
       "  {'id': 53, 'name': 'apple', 'supercategory': 'food'},\n",
       "  {'id': 54, 'name': 'sandwich', 'supercategory': 'food'},\n",
       "  {'id': 55, 'name': 'orange', 'supercategory': 'food'},\n",
       "  {'id': 56, 'name': 'broccoli', 'supercategory': 'food'},\n",
       "  {'id': 57, 'name': 'carrot', 'supercategory': 'food'},\n",
       "  {'id': 58, 'name': 'hot dog', 'supercategory': 'food'},\n",
       "  {'id': 59, 'name': 'pizza', 'supercategory': 'food'},\n",
       "  {'id': 60, 'name': 'donut', 'supercategory': 'food'},\n",
       "  {'id': 61, 'name': 'cake', 'supercategory': 'food'},\n",
       "  {'id': 62, 'name': 'chair', 'supercategory': 'furniture'},\n",
       "  {'id': 63, 'name': 'couch', 'supercategory': 'furniture'},\n",
       "  {'id': 64, 'name': 'potted plant', 'supercategory': 'furniture'},\n",
       "  {'id': 65, 'name': 'bed', 'supercategory': 'furniture'},\n",
       "  {'id': 67, 'name': 'dining table', 'supercategory': 'furniture'},\n",
       "  {'id': 70, 'name': 'toilet', 'supercategory': 'furniture'},\n",
       "  {'id': 72, 'name': 'tv', 'supercategory': 'electronic'},\n",
       "  {'id': 73, 'name': 'laptop', 'supercategory': 'electronic'},\n",
       "  {'id': 74, 'name': 'mouse', 'supercategory': 'electronic'},\n",
       "  {'id': 75, 'name': 'remote', 'supercategory': 'electronic'},\n",
       "  {'id': 76, 'name': 'keyboard', 'supercategory': 'electronic'},\n",
       "  {'id': 77, 'name': 'cell phone', 'supercategory': 'electronic'},\n",
       "  {'id': 78, 'name': 'microwave', 'supercategory': 'appliance'},\n",
       "  {'id': 79, 'name': 'oven', 'supercategory': 'appliance'},\n",
       "  {'id': 80, 'name': 'toaster', 'supercategory': 'appliance'},\n",
       "  {'id': 81, 'name': 'sink', 'supercategory': 'appliance'},\n",
       "  {'id': 82, 'name': 'refrigerator', 'supercategory': 'appliance'},\n",
       "  {'id': 84, 'name': 'book', 'supercategory': 'indoor'},\n",
       "  {'id': 85, 'name': 'clock', 'supercategory': 'indoor'},\n",
       "  {'id': 86, 'name': 'vase', 'supercategory': 'indoor'},\n",
       "  {'id': 87, 'name': 'scissors', 'supercategory': 'indoor'},\n",
       "  {'id': 88, 'name': 'teddy bear', 'supercategory': 'indoor'},\n",
       "  {'id': 89, 'name': 'hair drier', 'supercategory': 'indoor'},\n",
       "  {'id': 90, 'name': 'toothbrush', 'supercategory': 'indoor'}]]"
      ]
     },
     "execution_count": 33,
     "metadata": {},
     "output_type": "execute_result"
    }
   ],
   "source": [
    "[data['info'], data['licenses'], data['categories']]"
   ]
  },
  {
   "cell_type": "code",
   "execution_count": 35,
   "metadata": {},
   "outputs": [
    {
     "data": {
      "text/plain": [
       "{'area': 2765.1486500000005,\n",
       " 'bbox': [199.84, 200.46, 77.71, 70.88],\n",
       " 'category_id': 58,\n",
       " 'id': 156,\n",
       " 'image_id': 558840,\n",
       " 'iscrowd': 0,\n",
       " 'segmentation': [[239.97,\n",
       "   260.24,\n",
       "   222.04,\n",
       "   270.49,\n",
       "   199.84,\n",
       "   253.41,\n",
       "   213.5,\n",
       "   227.79,\n",
       "   259.62,\n",
       "   200.46,\n",
       "   274.13,\n",
       "   202.17,\n",
       "   277.55,\n",
       "   210.71,\n",
       "   249.37,\n",
       "   253.41,\n",
       "   237.41,\n",
       "   264.51,\n",
       "   242.54,\n",
       "   261.95,\n",
       "   228.87,\n",
       "   271.34]]}"
      ]
     },
     "execution_count": 35,
     "metadata": {},
     "output_type": "execute_result"
    }
   ],
   "source": [
    "data['annotations'][0]"
   ]
  },
  {
   "cell_type": "code",
   "execution_count": 39,
   "metadata": {},
   "outputs": [],
   "source": [
    "json.dump(data_2,open('./new_instances_val2017.json','w'),indent=4) # indent=4 更加美观显示"
   ]
  },
  {
   "cell_type": "code",
   "execution_count": null,
   "metadata": {},
   "outputs": [],
   "source": []
  }
 ],
 "metadata": {
  "kernelspec": {
   "display_name": "Python 3",
   "language": "python",
   "name": "python3"
  },
  "language_info": {
   "codemirror_mode": {
    "name": "ipython",
    "version": 3
   },
   "file_extension": ".py",
   "mimetype": "text/x-python",
   "name": "python",
   "nbconvert_exporter": "python",
   "pygments_lexer": "ipython3",
   "version": "3.5.2"
  }
 },
 "nbformat": 4,
 "nbformat_minor": 2
}
