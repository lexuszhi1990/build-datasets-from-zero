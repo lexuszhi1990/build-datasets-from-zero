{
 "cells": [
  {
   "cell_type": "code",
   "execution_count": null,
   "metadata": {},
   "outputs": [],
   "source": [
    "import sys\n",
    "sys.path.append('/home/david/fashionAI/rcnn/rcnn')\n",
    "\n",
    "from pycocotools.coco import COCO\n",
    "import os, sys, zipfile\n",
    "import urllib.request\n",
    "import shutil\n",
    "import numpy as np\n",
    "import skimage.io as io\n",
    "%matplotlib inline\n",
    "import matplotlib.pyplot as plt\n",
    "import pylab\n",
    "import json"
   ]
  },
  {
   "cell_type": "code",
   "execution_count": null,
   "metadata": {},
   "outputs": [],
   "source": [
    "json_file='/data/david/cocoapi/annotations/instances_train2017.json'\n",
    "# json_file='./annotations/person_keypoints_val2017.json'  # Object Keypoint 类型的标注格式\n",
    "# json_file='./annotations/captions_val2017.json' # Image Caption的标注格式\n",
    "\n",
    "data=json.load(open(json_file,'r'))\n",
    "data_2={}\n",
    "data_2['info']=data['info']\n",
    "data_2['licenses']=data['licenses']\n",
    "data_2['images']=[data['images'][0]] # 只提取第一张图片\n",
    "data_2['categories']=data['categories']  # Image Caption 没有该字段\n",
    "annotation=[]\n"
   ]
  },
  {
   "cell_type": "code",
   "execution_count": null,
   "metadata": {},
   "outputs": [],
   "source": [
    "# 通过imgID 找到其所有对象\n",
    "imgID=data_2['images'][0]['id']\n",
    "for ann in data['annotations']:\n",
    "    if ann['image_id']==imgID:\n",
    "        annotation.append(ann)\n",
    "data_2['annotations']=annotation\n",
    "data_2['annotations'][0]['segmentation'][0]"
   ]
  },
  {
   "cell_type": "code",
   "execution_count": null,
   "metadata": {},
   "outputs": [],
   "source": [
    "data.keys()"
   ]
  },
  {
   "cell_type": "code",
   "execution_count": null,
   "metadata": {},
   "outputs": [],
   "source": [
    "[data['info'], data['licenses'], data['categories']]"
   ]
  },
  {
   "cell_type": "code",
   "execution_count": null,
   "metadata": {},
   "outputs": [],
   "source": [
    "data['annotations'][0]"
   ]
  },
  {
   "cell_type": "code",
   "execution_count": null,
   "metadata": {},
   "outputs": [],
   "source": [
    "json.dump(data_2,open('./new_instances_val2017.json','w'),indent=4) # indent=4 更加美观显示"
   ]
  },
  {
   "cell_type": "code",
   "execution_count": null,
   "metadata": {},
   "outputs": [],
   "source": []
  }
 ],
 "metadata": {
  "kernelspec": {
   "display_name": "Python 3",
   "language": "python",
   "name": "python3"
  },
  "language_info": {
   "codemirror_mode": {
    "name": "ipython",
    "version": 3
   },
   "file_extension": ".py",
   "mimetype": "text/x-python",
   "name": "python",
   "nbconvert_exporter": "python",
   "pygments_lexer": "ipython3",
   "version": "3.6.5rc1"
  }
 },
 "nbformat": 4,
 "nbformat_minor": 2
}
