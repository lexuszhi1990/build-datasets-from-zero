{
 "cells": [
  {
   "cell_type": "code",
   "execution_count": null,
   "metadata": {},
   "outputs": [],
   "source": [
    "import sys\n",
    "sys.path.append('/mnt/cocoapi/PythonAPI/')\n",
    "\n",
    "from pycocotools.coco import COCO\n",
    "import os, sys, zipfile\n",
    "import urllib.request\n",
    "import shutil\n",
    "import numpy as np\n",
    "%matplotlib inline\n",
    "import matplotlib.pyplot as plt\n",
    "import pylab\n",
    "import json\n",
    "from pathlib import Path\n",
    "import csv\n",
    "import cv2\n",
    "from random import randrange"
   ]
  },
  {
   "cell_type": "code",
   "execution_count": null,
   "metadata": {},
   "outputs": [],
   "source": [
    "output_dir = '/mnt/data'\n",
    "image_set = 'train'\n",
    "anno_file = Path(output_dir, 'annotations', image_set+'.json')\n",
    "coco=COCO(anno_file.as_posix())"
   ]
  },
  {
   "cell_type": "code",
   "execution_count": null,
   "metadata": {},
   "outputs": [],
   "source": [
    "dir(coco)"
   ]
  },
  {
   "cell_type": "code",
   "execution_count": null,
   "metadata": {},
   "outputs": [],
   "source": [
    "img_idx = coco.getImgIds()\n",
    "img_id = img_idx[randrange(len(img_idx))]\n",
    "\n",
    "# blouse\n",
    "# img_id = 15123905676769761541\n",
    "print(img_id)\n",
    "img_anno = coco.loadImgs([img_id])[0]\n",
    "print(img_anno)"
   ]
  },
  {
   "cell_type": "code",
   "execution_count": null,
   "metadata": {},
   "outputs": [],
   "source": [
    "img_path = Path(output_dir, 'images', image_set, img_anno['file_name'])\n",
    "print(img_path)\n",
    "assert img_path.exists(), 'image not exists'\n",
    "img_id"
   ]
  },
  {
   "cell_type": "code",
   "execution_count": null,
   "metadata": {},
   "outputs": [],
   "source": [
    "img = cv2.imread(img_path.as_posix())\n",
    "plt.axis('off')\n",
    "plt.imshow(img)\n",
    "plt.show()"
   ]
  },
  {
   "cell_type": "code",
   "execution_count": null,
   "metadata": {},
   "outputs": [],
   "source": [
    "# catIds = coco.getCatIds(catNms=['person','dog','skateboard']);\n",
    "# catIds=coco.getCatIds()\n",
    "catIds=[]\n",
    "for ann in coco.dataset['annotations']:\n",
    "    if ann['image_id']==img_id:\n",
    "        catIds.append(ann['category_id'])\n",
    "print(catIds)"
   ]
  },
  {
   "cell_type": "code",
   "execution_count": null,
   "metadata": {},
   "outputs": [],
   "source": [
    "plt.imshow(img); plt.axis('off')\n",
    "annIds = coco.getAnnIds(imgIds=[img_id], catIds=catIds, iscrowd=None)\n",
    "anns = coco.loadAnns(annIds)\n",
    "print(anns)\n",
    "coco.showAnns(anns)"
   ]
  },
  {
   "cell_type": "code",
   "execution_count": null,
   "metadata": {},
   "outputs": [],
   "source": [
    "xmin, ymin, width, height = anns[0]['bbox']\n",
    "img = cv2.imread(img_path.as_posix())\n",
    "cv2.rectangle(img, (xmin, ymin), (xmin+width, ymin+height), (255, 0, 0), 2)\n",
    "plt.axis('off')\n",
    "plt.imshow(img)\n",
    "plt.show()"
   ]
  },
  {
   "cell_type": "code",
   "execution_count": null,
   "metadata": {},
   "outputs": [],
   "source": [
    "img_idx = coco.getImgIds()\n",
    "img_id = img_idx[randrange(len(img_idx))]\n",
    "\n",
    "# outwear\n",
    "img_id = 10847396333075508021\n",
    "print(img_id)\n",
    "img_anno = coco.loadImgs([img_id])[0]\n",
    "print(img_anno)\n",
    "img_path = Path(output_dir, 'images', img_anno['category'], img_anno['file_name'])\n",
    "print(img_path)\n",
    "assert img_path.exists(), 'image not exists'\n",
    "img_id\n",
    "img = cv2.imread(img_path.as_posix())\n",
    "\n",
    "catIds=[]\n",
    "for ann in coco.dataset['annotations']:\n",
    "    if ann['image_id']==img_id:\n",
    "        catIds.append(ann['category_id'])\n",
    "print(catIds)\n",
    "\n",
    "plt.imshow(img); plt.axis('off')\n",
    "annIds = coco.getAnnIds(imgIds=[img_id], catIds=catIds, iscrowd=None)\n",
    "anns = coco.loadAnns(annIds)\n",
    "print(anns)\n",
    "coco.showAnns(anns)\n",
    "\n",
    "xmin, ymin, width, height = anns[0]['bbox']\n",
    "img = cv2.imread(img_path.as_posix())\n",
    "cv2.rectangle(img, (xmin, ymin), (xmin+width, ymin+height), (255, 0, 0), 2)\n",
    "plt.axis('off')\n",
    "plt.imshow(img)\n",
    "plt.show()"
   ]
  },
  {
   "cell_type": "code",
   "execution_count": null,
   "metadata": {},
   "outputs": [],
   "source": [
    "img_idx = coco.getImgIds()\n",
    "img_id = img_idx[randrange(len(img_idx))]\n",
    "\n",
    "# trousers\n",
    "img_id = 15585969014593709956\n",
    "print(img_id)\n",
    "img_anno = coco.loadImgs([img_id])[0]\n",
    "print(img_anno)\n",
    "img_path = Path(output_dir, 'images', img_anno['category'], img_anno['file_name'])\n",
    "print(img_path)\n",
    "assert img_path.exists(), 'image not exists'\n",
    "img_id\n",
    "img = cv2.imread(img_path.as_posix())\n",
    "\n",
    "catIds=[]\n",
    "for ann in coco.dataset['annotations']:\n",
    "    if ann['image_id']==img_id:\n",
    "        catIds.append(ann['category_id'])\n",
    "print(catIds)\n",
    "\n",
    "plt.imshow(img); plt.axis('off')\n",
    "annIds = coco.getAnnIds(imgIds=[img_id], catIds=catIds, iscrowd=None)\n",
    "anns = coco.loadAnns(annIds)\n",
    "print(anns)\n",
    "coco.showAnns(anns)\n",
    "\n",
    "xmin, ymin, width, height = anns[0]['bbox']\n",
    "img = cv2.imread(img_path.as_posix())\n",
    "cv2.rectangle(img, (xmin, ymin), (xmin+width, ymin+height), (255, 0, 0), 2)\n",
    "plt.axis('off')\n",
    "plt.imshow(img)\n",
    "plt.show()"
   ]
  },
  {
   "cell_type": "code",
   "execution_count": null,
   "metadata": {},
   "outputs": [],
   "source": [
    "img_idx = coco.getImgIds()\n",
    "img_id = img_idx[randrange(len(img_idx))]\n",
    "\n",
    "# dress\n",
    "img_id = 318408857688252298\n",
    "print(img_id)\n",
    "img_anno = coco.loadImgs([img_id])[0]\n",
    "print(img_anno)\n",
    "img_path = Path(output_dir, 'images', img_anno['category'], img_anno['file_name'])\n",
    "print(img_path)\n",
    "assert img_path.exists(), 'image not exists'\n",
    "img_id\n",
    "img = cv2.imread(img_path.as_posix())\n",
    "\n",
    "catIds=[]\n",
    "for ann in coco.dataset['annotations']:\n",
    "    if ann['image_id']==img_id:\n",
    "        catIds.append(ann['category_id'])\n",
    "print(catIds)\n",
    "\n",
    "plt.imshow(img); plt.axis('off')\n",
    "annIds = coco.getAnnIds(imgIds=[img_id], catIds=catIds, iscrowd=None)\n",
    "anns = coco.loadAnns(annIds)\n",
    "print(anns)\n",
    "coco.showAnns(anns)"
   ]
  },
  {
   "cell_type": "code",
   "execution_count": null,
   "metadata": {},
   "outputs": [],
   "source": [
    "xmin, ymin, width, height = anns[0]['bbox']\n",
    "img = cv2.imread(img_path.as_posix())\n",
    "cv2.rectangle(img, (xmin, ymin), (xmin+width, ymin+height), (255, 0, 0), 2)\n",
    "plt.axis('off')\n",
    "plt.imshow(img)\n",
    "plt.show()"
   ]
  },
  {
   "cell_type": "code",
   "execution_count": null,
   "metadata": {},
   "outputs": [],
   "source": [
    "img_idx = coco.getImgIds()\n",
    "img_id = img_idx[randrange(len(img_idx))]\n",
    "\n",
    "# skirt\n",
    "img_id = 12300374081012474623\n",
    "print(img_id)\n",
    "img_anno = coco.loadImgs([img_id])[0]\n",
    "print(img_anno)\n",
    "img_path = Path(output_dir, 'images', img_anno['category'], img_anno['file_name'])\n",
    "print(img_path)\n",
    "assert img_path.exists(), 'image not exists'\n",
    "img_id\n",
    "img = cv2.imread(img_path.as_posix())\n",
    "\n",
    "catIds=[]\n",
    "for ann in coco.dataset['annotations']:\n",
    "    if ann['image_id']==img_id:\n",
    "        catIds.append(ann['category_id'])\n",
    "print(catIds)\n",
    "\n",
    "plt.imshow(img); plt.axis('off')\n",
    "annIds = coco.getAnnIds(imgIds=[img_id], catIds=catIds, iscrowd=None)\n",
    "anns = coco.loadAnns(annIds)\n",
    "print(anns)\n",
    "coco.showAnns(anns)"
   ]
  },
  {
   "cell_type": "code",
   "execution_count": null,
   "metadata": {},
   "outputs": [],
   "source": []
  }
 ],
 "metadata": {
  "kernelspec": {
   "display_name": "python3.6",
   "language": "python",
   "name": "python3.6"
  },
  "language_info": {
   "codemirror_mode": {
    "name": "ipython",
    "version": 3
   },
   "file_extension": ".py",
   "mimetype": "text/x-python",
   "name": "python",
   "nbconvert_exporter": "python",
   "pygments_lexer": "ipython3",
   "version": "3.6.5rc1"
  }
 },
 "nbformat": 4,
 "nbformat_minor": 2
}
