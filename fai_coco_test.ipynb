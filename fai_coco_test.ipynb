{
 "cells": [
  {
   "cell_type": "code",
   "execution_count": 3,
   "metadata": {},
   "outputs": [],
   "source": [
    "import sys\n",
    "sys.path.append('/mnt/cocoapi/PythonAPI/')\n",
    "\n",
    "from pycocotools.coco import COCO\n",
    "import os, sys, zipfile\n",
    "import urllib.request\n",
    "import shutil\n",
    "import numpy as np\n",
    "%matplotlib inline\n",
    "import matplotlib.pyplot as plt\n",
    "import pylab\n",
    "import json\n",
    "from pathlib import Path\n",
    "import csv\n",
    "import cv2\n",
    "from random import randrange"
   ]
  },
  {
   "cell_type": "code",
   "execution_count": 4,
   "metadata": {},
   "outputs": [
    {
     "name": "stdout",
     "output_type": "stream",
     "text": [
      "loading annotations into memory...\n",
      "Done (t=2.32s)\n",
      "creating index...\n",
      "index created!\n"
     ]
    },
    {
     "data": {
      "text/plain": [
       "26908"
      ]
     },
     "execution_count": 4,
     "metadata": {},
     "output_type": "execute_result"
    }
   ],
   "source": [
    "output_dir = '/mnt/data'\n",
    "image_set = 'train'\n",
    "anno_file = Path(output_dir, 'annotations', image_set+'.json')\n",
    "coco=COCO(anno_file.as_posix())\n",
    "len(coco.imgs)"
   ]
  },
  {
   "cell_type": "code",
   "execution_count": 5,
   "metadata": {},
   "outputs": [
    {
     "data": {
      "text/plain": [
       "['__class__',\n",
       " '__delattr__',\n",
       " '__dict__',\n",
       " '__dir__',\n",
       " '__doc__',\n",
       " '__eq__',\n",
       " '__format__',\n",
       " '__ge__',\n",
       " '__getattribute__',\n",
       " '__gt__',\n",
       " '__hash__',\n",
       " '__init__',\n",
       " '__init_subclass__',\n",
       " '__le__',\n",
       " '__lt__',\n",
       " '__module__',\n",
       " '__ne__',\n",
       " '__new__',\n",
       " '__reduce__',\n",
       " '__reduce_ex__',\n",
       " '__repr__',\n",
       " '__setattr__',\n",
       " '__sizeof__',\n",
       " '__str__',\n",
       " '__subclasshook__',\n",
       " '__weakref__',\n",
       " 'annToMask',\n",
       " 'annToRLE',\n",
       " 'anns',\n",
       " 'catToImgs',\n",
       " 'cats',\n",
       " 'createIndex',\n",
       " 'dataset',\n",
       " 'download',\n",
       " 'getAnnIds',\n",
       " 'getCatIds',\n",
       " 'getImgIds',\n",
       " 'imgToAnns',\n",
       " 'imgs',\n",
       " 'info',\n",
       " 'loadAnns',\n",
       " 'loadCats',\n",
       " 'loadImgs',\n",
       " 'loadNumpyAnnotations',\n",
       " 'loadRes',\n",
       " 'showAnns']"
      ]
     },
     "execution_count": 5,
     "metadata": {},
     "output_type": "execute_result"
    }
   ],
   "source": [
    "dir(coco)"
   ]
  },
  {
   "cell_type": "code",
   "execution_count": 4,
   "metadata": {},
   "outputs": [
    {
     "name": "stdout",
     "output_type": "stream",
     "text": [
      "10748437255030132533\n",
      "{'height': 512, 'width': 512, 'file_name': 'Images/trousers/e3f3881c05c1ff47854d98683a250349.jpg', 'id': 10748437255030132533, 'category': 'trousers'}\n"
     ]
    }
   ],
   "source": [
    "img_idx = coco.getImgIds()\n",
    "img_id = img_idx[randrange(len(img_idx))]\n",
    "\n",
    "# blouse\n",
    "# img_id = 15123905676769761541\n",
    "print(img_id)\n",
    "img_anno = coco.loadImgs([img_id])[0]\n",
    "print(img_anno)"
   ]
  },
  {
   "cell_type": "code",
   "execution_count": 5,
   "metadata": {},
   "outputs": [
    {
     "name": "stdout",
     "output_type": "stream",
     "text": [
      "/mnt/data/images/train/Images/trousers/e3f3881c05c1ff47854d98683a250349.jpg\n"
     ]
    },
    {
     "data": {
      "text/plain": [
       "10748437255030132533"
      ]
     },
     "execution_count": 5,
     "metadata": {},
     "output_type": "execute_result"
    }
   ],
   "source": [
    "img_path = Path(output_dir, 'images', image_set, img_anno['file_name'])\n",
    "print(img_path)\n",
    "assert img_path.exists(), 'image not exists'\n",
    "img_id"
   ]
  },
  {
   "cell_type": "code",
   "execution_count": null,
   "metadata": {},
   "outputs": [],
   "source": [
    "img = cv2.imread(img_path.as_posix())\n",
    "plt.axis('off')\n",
    "plt.imshow(img)\n",
    "plt.show()"
   ]
  },
  {
   "cell_type": "code",
   "execution_count": null,
   "metadata": {},
   "outputs": [],
   "source": [
    "# catIds = coco.getCatIds(catNms=['person','dog','skateboard']);\n",
    "# catIds=coco.getCatIds()\n",
    "catIds=[]\n",
    "for ann in coco.dataset['annotations']:\n",
    "    if ann['image_id']==img_id:\n",
    "        catIds.append(ann['category_id'])\n",
    "print(catIds)"
   ]
  },
  {
   "cell_type": "code",
   "execution_count": null,
   "metadata": {},
   "outputs": [],
   "source": [
    "plt.imshow(img); plt.axis('off')\n",
    "annIds = coco.getAnnIds(imgIds=[img_id], catIds=catIds, iscrowd=None)\n",
    "anns = coco.loadAnns(annIds)\n",
    "print(anns)\n",
    "coco.showAnns(anns)"
   ]
  },
  {
   "cell_type": "code",
   "execution_count": null,
   "metadata": {},
   "outputs": [],
   "source": [
    "xmin, ymin, width, height = anns[0]['bbox']\n",
    "img = cv2.imread(img_path.as_posix())\n",
    "cv2.rectangle(img, (xmin, ymin), (xmin+width, ymin+height), (255, 0, 0), 2)\n",
    "plt.axis('off')\n",
    "plt.imshow(img)\n",
    "plt.show()"
   ]
  },
  {
   "cell_type": "code",
   "execution_count": null,
   "metadata": {},
   "outputs": [],
   "source": [
    "img_idx = coco.getImgIds()\n",
    "img_id = img_idx[randrange(len(img_idx))]\n",
    "\n",
    "# outwear\n",
    "img_id = 10847396333075508021\n",
    "print(img_id)\n",
    "img_anno = coco.loadImgs([img_id])[0]\n",
    "print(img_anno)\n",
    "img_path = Path(output_dir, 'images', img_anno['category'], img_anno['file_name'])\n",
    "print(img_path)\n",
    "assert img_path.exists(), 'image not exists'\n",
    "img_id\n",
    "img = cv2.imread(img_path.as_posix())\n",
    "\n",
    "catIds=[]\n",
    "for ann in coco.dataset['annotations']:\n",
    "    if ann['image_id']==img_id:\n",
    "        catIds.append(ann['category_id'])\n",
    "print(catIds)\n",
    "\n",
    "plt.imshow(img); plt.axis('off')\n",
    "annIds = coco.getAnnIds(imgIds=[img_id], catIds=catIds, iscrowd=None)\n",
    "anns = coco.loadAnns(annIds)\n",
    "print(anns)\n",
    "coco.showAnns(anns)\n",
    "\n",
    "xmin, ymin, width, height = anns[0]['bbox']\n",
    "img = cv2.imread(img_path.as_posix())\n",
    "cv2.rectangle(img, (xmin, ymin), (xmin+width, ymin+height), (255, 0, 0), 2)\n",
    "plt.axis('off')\n",
    "plt.imshow(img)\n",
    "plt.show()"
   ]
  },
  {
   "cell_type": "code",
   "execution_count": null,
   "metadata": {},
   "outputs": [],
   "source": [
    "img_idx = coco.getImgIds()\n",
    "img_id = img_idx[randrange(len(img_idx))]\n",
    "\n",
    "# trousers\n",
    "img_id = 15585969014593709956\n",
    "print(img_id)\n",
    "img_anno = coco.loadImgs([img_id])[0]\n",
    "print(img_anno)\n",
    "img_path = Path(output_dir, 'images', img_anno['category'], img_anno['file_name'])\n",
    "print(img_path)\n",
    "assert img_path.exists(), 'image not exists'\n",
    "img_id\n",
    "img = cv2.imread(img_path.as_posix())\n",
    "\n",
    "catIds=[]\n",
    "for ann in coco.dataset['annotations']:\n",
    "    if ann['image_id']==img_id:\n",
    "        catIds.append(ann['category_id'])\n",
    "print(catIds)\n",
    "\n",
    "plt.imshow(img); plt.axis('off')\n",
    "annIds = coco.getAnnIds(imgIds=[img_id], catIds=catIds, iscrowd=None)\n",
    "anns = coco.loadAnns(annIds)\n",
    "print(anns)\n",
    "coco.showAnns(anns)\n",
    "\n",
    "xmin, ymin, width, height = anns[0]['bbox']\n",
    "img = cv2.imread(img_path.as_posix())\n",
    "cv2.rectangle(img, (xmin, ymin), (xmin+width, ymin+height), (255, 0, 0), 2)\n",
    "plt.axis('off')\n",
    "plt.imshow(img)\n",
    "plt.show()"
   ]
  },
  {
   "cell_type": "code",
   "execution_count": null,
   "metadata": {},
   "outputs": [],
   "source": [
    "img_idx = coco.getImgIds()\n",
    "img_id = img_idx[randrange(len(img_idx))]\n",
    "\n",
    "# dress\n",
    "img_id = 318408857688252298\n",
    "print(img_id)\n",
    "img_anno = coco.loadImgs([img_id])[0]\n",
    "print(img_anno)\n",
    "img_path = Path(output_dir, 'images', img_anno['category'], img_anno['file_name'])\n",
    "print(img_path)\n",
    "assert img_path.exists(), 'image not exists'\n",
    "img_id\n",
    "img = cv2.imread(img_path.as_posix())\n",
    "\n",
    "catIds=[]\n",
    "for ann in coco.dataset['annotations']:\n",
    "    if ann['image_id']==img_id:\n",
    "        catIds.append(ann['category_id'])\n",
    "print(catIds)\n",
    "\n",
    "plt.imshow(img); plt.axis('off')\n",
    "annIds = coco.getAnnIds(imgIds=[img_id], catIds=catIds, iscrowd=None)\n",
    "anns = coco.loadAnns(annIds)\n",
    "print(anns)\n",
    "coco.showAnns(anns)"
   ]
  },
  {
   "cell_type": "code",
   "execution_count": null,
   "metadata": {},
   "outputs": [],
   "source": [
    "xmin, ymin, width, height = anns[0]['bbox']\n",
    "img = cv2.imread(img_path.as_posix())\n",
    "cv2.rectangle(img, (xmin, ymin), (xmin+width, ymin+height), (255, 0, 0), 2)\n",
    "plt.axis('off')\n",
    "plt.imshow(img)\n",
    "plt.show()"
   ]
  },
  {
   "cell_type": "code",
   "execution_count": null,
   "metadata": {},
   "outputs": [],
   "source": [
    "img_idx = coco.getImgIds()\n",
    "img_id = img_idx[randrange(len(img_idx))]\n",
    "\n",
    "# skirt\n",
    "img_id = 12300374081012474623\n",
    "print(img_id)\n",
    "img_anno = coco.loadImgs([img_id])[0]\n",
    "print(img_anno)\n",
    "img_path = Path(output_dir, 'images', img_anno['category'], img_anno['file_name'])\n",
    "print(img_path)\n",
    "assert img_path.exists(), 'image not exists'\n",
    "img_id\n",
    "img = cv2.imread(img_path.as_posix())\n",
    "\n",
    "catIds=[]\n",
    "for ann in coco.dataset['annotations']:\n",
    "    if ann['image_id']==img_id:\n",
    "        catIds.append(ann['category_id'])\n",
    "print(catIds)\n",
    "\n",
    "plt.imshow(img); plt.axis('off')\n",
    "annIds = coco.getAnnIds(imgIds=[img_id], catIds=catIds, iscrowd=None)\n",
    "anns = coco.loadAnns(annIds)\n",
    "print(anns)\n",
    "coco.showAnns(anns)"
   ]
  },
  {
   "cell_type": "code",
   "execution_count": null,
   "metadata": {},
   "outputs": [],
   "source": []
  }
 ],
 "metadata": {
  "kernelspec": {
   "display_name": "python3.6",
   "language": "python",
   "name": "python3.6"
  },
  "language_info": {
   "codemirror_mode": {
    "name": "ipython",
    "version": 3
   },
   "file_extension": ".py",
   "mimetype": "text/x-python",
   "name": "python",
   "nbconvert_exporter": "python",
   "pygments_lexer": "ipython3",
   "version": "3.6.5rc1"
  }
 },
 "nbformat": 4,
 "nbformat_minor": 2
}
